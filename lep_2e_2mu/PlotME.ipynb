{
 "cells": [
  {
   "cell_type": "code",
   "execution_count": 2,
   "metadata": {},
   "outputs": [],
   "source": [
    "import os\n",
    "import sys\n",
    "sys.path.append(os.path.join(os.getcwd(),'model'))"
   ]
  },
  {
   "cell_type": "code",
   "execution_count": 31,
   "metadata": {},
   "outputs": [],
   "source": [
    "import sys\n",
    "import random\n",
    "import os\n",
    "from processes.all_processes import Matrix_1_epem_mupmum\n",
    "from model.parameters import ModelParameters\n",
    "from phase_space_generator.flat_phase_space_generator import FlatInvertiblePhasespace \n",
    "\n",
    "\n",
    "def get_xsec(E_cm, random_variables):\n",
    "    active_model = ModelParameters(None)\n",
    "\n",
    "    # Center of mass of the collision in GeV\n",
    "    process_class = Matrix_1_epem_mupmum\n",
    "\n",
    "    # Generate a random PS point for this process\n",
    "    process = process_class()\n",
    "    external_masses = process.get_external_masses(active_model)\n",
    "\n",
    "    # Ensure that E_cm offers enough twice as much energy as necessary \n",
    "    # to produce the final states\n",
    "    this_process_E_cm = max( E_cm, sum(external_masses[1])*2. )\n",
    "\n",
    "    ps_generator = FlatInvertiblePhasespace(\n",
    "        external_masses[0], external_masses[1],\n",
    "        beam_Es = (this_process_E_cm/2.,this_process_E_cm/2.),\n",
    "        # We do not consider PDF for this standalone check\n",
    "        beam_types=(0,0)\n",
    "    )\n",
    "\n",
    "    # Generate some random variables\n",
    "    PS_point, jacobian = ps_generator.generateKinematics(this_process_E_cm, random_variables)\n",
    "\n",
    "    return process.smatrix(PS_point, active_model)"
   ]
  },
  {
   "cell_type": "code",
   "execution_count": 35,
   "metadata": {},
   "outputs": [
    {
     "data": {
      "text/plain": [
       "[]"
      ]
     },
     "execution_count": 35,
     "metadata": {},
     "output_type": "execute_result"
    },
    {
     "data": {
      "image/png": "[encoded data removed]",
      "text/plain": [
       "<Figure size 432x288 with 1 Axes>"
      ]
     },
     "metadata": {
      "needs_background": "light"
     },
     "output_type": "display_data"
    }
   ],
   "source": [
    "import numpy as np\n",
    "import matplotlib.pyplot as plt\n",
    "random_variables   = [random.random() for _ in range(ps_generator.nDimPhaseSpace())]\n",
    "energies = np.linspace(50,150,1001)\n",
    "plt.plot(energies,[get_xsec(e,random_variables) for e in energies])\n",
    "plt.semilogy()"
   ]
  },
  {
   "cell_type": "code",
   "execution_count": 36,
   "metadata": {},
   "outputs": [],
   "source": [
    "!code -n /"
   ]
  },
  {
   "cell_type": "code",
   "execution_count": null,
   "metadata": {},
   "outputs": [],
   "source": []
  }
 ],
 "metadata": {
  "kernelspec": {
   "display_name": "Python 2",
   "language": "python",
   "name": "python2"
  },
  "language_info": {
   "codemirror_mode": {
    "name": "ipython",
    "version": 2
   },
   "file_extension": ".py",
   "mimetype": "text/x-python",
   "name": "python",
   "nbconvert_exporter": "python",
   "pygments_lexer": "ipython2",
   "version": "2.7.15"
  }
 },
 "nbformat": 4,
 "nbformat_minor": 2
}
