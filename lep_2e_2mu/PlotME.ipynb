{
 "cells": [
  {
   "cell_type": "code",
   "execution_count": 13,
   "metadata": {},
   "outputs": [],
   "source": [
    "import os\n",
    "import sys\n",
    "sys.path.append(os.path.join(os.getcwd(),'model'))\n",
    "\n",
    "import jax\n",
    "import sys\n",
    "import random\n",
    "import os\n",
    "import numpy as np\n",
    "from processes.all_processes import Matrix_1_epem_mupmum\n",
    "from model.parameters import ModelParameters\n",
    "from phase_space_generator.flat_phase_space_generator import FlatInvertiblePhasespace, LorentzVectorList, LorentzVector\n",
    "import matplotlib.pyplot as plt\n",
    "%matplotlib inline"
   ]
  },
  {
   "cell_type": "code",
   "execution_count": 7,
   "metadata": {},
   "outputs": [],
   "source": [
    "active_model = ModelParameters(None)\n",
    "def matrix_element(x):\n",
    "    e = 90.0\n",
    "    theta = x\n",
    "\n",
    "        \n",
    "    process = Matrix_1_epem_mupmum()\n",
    "\n",
    "    \n",
    "    vectors = [\n",
    "        [e/2,0,0, e/2],\n",
    "        [e/2,0,0,-e/2],\n",
    "        [e/2, 0, e/2*jax.numpy.sin(theta), e/2*jax.numpy.cos(theta)],\n",
    "        [e/2, 0,-e/2*jax.numpy.sin(theta),-e/2*jax.numpy.cos(theta)],\n",
    "    ]\n",
    "\n",
    "    PS_point = LorentzVectorList(LorentzVector(v) for v in vectors)\n",
    "    return process.smatrix(PS_point, active_model)[0]\n",
    "\n",
    "\n",
    "matrix_element_prime = jax.grad(matrix_element)"
   ]
  },
  {
   "cell_type": "code",
   "execution_count": 8,
   "metadata": {},
   "outputs": [],
   "source": [
    "angles = np.linspace(0,np.pi)"
   ]
  },
  {
   "cell_type": "code",
   "execution_count": 9,
   "metadata": {},
   "outputs": [],
   "source": [
    "mevals = np.asarray([matrix_element(a) for a in angles])"
   ]
  },
  {
   "cell_type": "code",
   "execution_count": 11,
   "metadata": {},
   "outputs": [
    {
     "name": "stderr",
     "output_type": "stream",
     "text": [
      "/Users/lukasheinrich/Code/me/MG5aMC_PythonMEs_output_example/venv/lib/python2.7/site-packages/jax/lax/lax.py:1874: ComplexWarning: Casting complex values to real discards the imaginary part\n",
      "  lambda t, new_dtype, old_dtype: [convert_element_type(t, old_dtype)])\n"
     ]
    }
   ],
   "source": [
    "meprime = np.asarray([matrix_element_prime(a) for a in angles])"
   ]
  },
  {
   "cell_type": "code",
   "execution_count": 14,
   "metadata": {},
   "outputs": [
    {
     "data": {
      "text/plain": [
       "<matplotlib.quiver.Quiver at 0x1306e9190>"
      ]
     },
     "execution_count": 14,
     "metadata": {},
     "output_type": "execute_result"
    },
    {
     "data": {
      "image/png": "[encoded data removed]",
      "text/plain": [
       "<Figure size 432x288 with 1 Axes>"
      ]
     },
     "metadata": {
      "needs_background": "light"
     },
     "output_type": "display_data"
    }
   ],
   "source": [
    "every_n = 4\n",
    "plt.plot(angles,mevals)\n",
    "plt.quiver(\n",
    "    angles[::every_n],mevals[::every_n],np.ones_like(angles)[::every_n],meprime[::every_n],\n",
    "    units = 'xy', angles = 'xy'\n",
    ")"
   ]
  },
  {
   "cell_type": "code",
   "execution_count": null,
   "metadata": {},
   "outputs": [],
   "source": []
  }
 ],
 "metadata": {
  "kernelspec": {
   "display_name": "Python 2",
   "language": "python",
   "name": "python2"
  },
  "language_info": {
   "codemirror_mode": {
    "name": "ipython",
    "version": 2
   },
   "file_extension": ".py",
   "mimetype": "text/x-python",
   "name": "python",
   "nbconvert_exporter": "python",
   "pygments_lexer": "ipython2",
   "version": "2.7.15"
  }
 },
 "nbformat": 4,
 "nbformat_minor": 2
}
